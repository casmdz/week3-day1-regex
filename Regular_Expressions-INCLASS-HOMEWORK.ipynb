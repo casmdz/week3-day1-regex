{
 "cells": [
  {
   "cell_type": "markdown",
   "metadata": {},
   "source": [
    "# Regular Expressions"
   ]
  },
  {
   "cell_type": "markdown",
   "metadata": {},
   "source": [
    "# Tasks today:\n",
    "1) <b>Importing</b> <br>\n",
    "2) <b>Using Regular Expressions</b> <br>\n",
    " &nbsp;&nbsp;&nbsp;&nbsp; a) re.compile() <br>\n",
    " &nbsp;&nbsp;&nbsp;&nbsp; b) re.match() <br>\n",
    " &nbsp;&nbsp;&nbsp;&nbsp; c) re.findall() <br>\n",
    " &nbsp;&nbsp;&nbsp;&nbsp; d) re.search() <br>\n",
    "3) <b>Sets</b> <br>\n",
    " &nbsp;&nbsp;&nbsp;&nbsp; a) Integer Ranges <br>\n",
    " &nbsp;&nbsp;&nbsp;&nbsp; b) Character Ranges <br>\n",
    "4) <b>Counting Occurences</b> <br>\n",
    " &nbsp;&nbsp;&nbsp;&nbsp; a) {x} <br>\n",
    " &nbsp;&nbsp;&nbsp;&nbsp; b) {, x} <br>\n",
    " &nbsp;&nbsp;&nbsp;&nbsp; c) {?} <br>\n",
    " &nbsp;&nbsp;&nbsp;&nbsp; d) {*} <br>\n",
    " &nbsp;&nbsp;&nbsp;&nbsp; e) {+} <br>\n",
    "5) <b>In-Class Exercise #1</b> <br>\n",
    "6) <b>Escaping Characters</b> <br>\n",
    "7) <b>Grouping</b> <br>\n",
    "8) <b>In-Class Exercise #2</b> <br>\n",
    "9) <b>Opening a File</b> <br>\n",
    " &nbsp;&nbsp;&nbsp;&nbsp; a) open() <br>\n",
    " &nbsp;&nbsp;&nbsp;&nbsp; b) with open() <br>\n",
    " &nbsp;&nbsp;&nbsp;&nbsp; c) re.match() <br>\n",
    " &nbsp;&nbsp;&nbsp;&nbsp; d) re.search() <br>\n",
    " &nbsp;&nbsp;&nbsp;&nbsp; e) Store the String in a Variable <br>\n",
    "10) <b>Regex Project</b> <br>"
   ]
  },
  {
   "cell_type": "markdown",
   "metadata": {},
   "source": [
    "### Importing <br>\n",
    "<p>Regular Expressions are universal throughout most programming languages... They are generally imported through the module 're'.</p>"
   ]
  },
  {
   "cell_type": "code",
   "execution_count": 8,
   "metadata": {},
   "outputs": [],
   "source": [
    "# import re\n",
    "import re"
   ]
  },
  {
   "cell_type": "markdown",
   "metadata": {},
   "source": [
    "### Using Regular Expressions <br>\n",
    "<p>Regular expressions give us the ability to search for patterns within text, strings, files, etc. They serve several uses, such as; security measures, searching, filtering, pattern recognition, and more...</p>"
   ]
  },
  {
   "cell_type": "markdown",
   "metadata": {},
   "source": [
    "##### re.compile()"
   ]
  },
  {
   "cell_type": "code",
   "execution_count": 3,
   "metadata": {},
   "outputs": [
    {
     "data": {
      "text/plain": [
       "re.Pattern"
      ]
     },
     "execution_count": 3,
     "metadata": {},
     "output_type": "execute_result"
    }
   ],
   "source": [
    "# using compile, predetermines the string to be used in regular expression methods\n",
    "pattern = re.compile('abc')\n",
    "type(pattern)"
   ]
  },
  {
   "cell_type": "code",
   "execution_count": null,
   "metadata": {},
   "outputs": [],
   "source": []
  },
  {
   "cell_type": "code",
   "execution_count": null,
   "metadata": {},
   "outputs": [],
   "source": []
  },
  {
   "cell_type": "markdown",
   "metadata": {},
   "source": [
    "##### re.match()"
   ]
  },
  {
   "cell_type": "code",
   "execution_count": 10,
   "metadata": {},
   "outputs": [
    {
     "name": "stdout",
     "output_type": "stream",
     "text": [
      "<re.Match object; span=(0, 3), match='abc'>\n",
      "(0, 3)\n"
     ]
    }
   ],
   "source": [
    "match = pattern.match(\"abcd1234 fdsfdsfsd sdff\")\n",
    "#but if you add D, before abc ==> Nonetype\n",
    "print(match)\n",
    "\n",
    "print(match.span())"
   ]
  },
  {
   "cell_type": "markdown",
   "metadata": {},
   "source": [
    "##### re.findall()"
   ]
  },
  {
   "cell_type": "code",
   "execution_count": 19,
   "metadata": {},
   "outputs": [
    {
     "name": "stdout",
     "output_type": "stream",
     "text": [
      "['abc', 'abc']\n"
     ]
    }
   ],
   "source": [
    "found = pattern.findall('abcd random abz 123 abc')\n",
    "print(found)"
   ]
  },
  {
   "cell_type": "markdown",
   "metadata": {},
   "source": [
    "##### re.search()"
   ]
  },
  {
   "cell_type": "code",
   "execution_count": 17,
   "metadata": {},
   "outputs": [
    {
     "name": "stdout",
     "output_type": "stream",
     "text": [
      "<re.Match object; span=(4, 7), match='abc'>\n",
      "(4, 7)\n"
     ]
    }
   ],
   "source": [
    "match = pattern.search(\"RAWRabcd1234 fdsfdsfsd sdff\")\n",
    "\n",
    "print(match)\n",
    "print(match.span())"
   ]
  },
  {
   "cell_type": "markdown",
   "metadata": {},
   "source": [
    "### Sets <br>\n",
    "<p>The following cells will allow you to use regular expressions to search for certain values within a range such as numbers 1 through 4.</p>"
   ]
  },
  {
   "cell_type": "markdown",
   "metadata": {},
   "source": [
    "##### [a-z] or [A-Z] - any lowercase/uppercase letters from a to z<br/>[^2] - anything that's not 2"
   ]
  },
  {
   "cell_type": "markdown",
   "metadata": {},
   "source": [
    "##### Integer Ranges"
   ]
  },
  {
   "cell_type": "code",
   "execution_count": 29,
   "metadata": {},
   "outputs": [
    {
     "name": "stdout",
     "output_type": "stream",
     "text": [
      "<re.Match object; span=(6, 11), match='91805'>\n",
      "<re.Match object; span=(3, 6), match='202'>\n",
      "['202', '805']\n"
     ]
    }
   ],
   "source": [
    "int_pat = re.compile('9180[1-6]') #pretend i moved, the zipcode is 9180.. and the last digits can be anything from 1-6\n",
    "match = int_pat.search('77320291805235')\n",
    "print(match)\n",
    "\n",
    "\n",
    "int_pat = re.compile('[0-9][0-1][1-6]')\n",
    "numbers = '77320291805235' #instead of repeating this over again: match = int_pat.search('77320291805235')\n",
    "match = int_pat.search(numbers)\n",
    "print(match)\n",
    "print(int_pat.findall(numbers))\n",
    "\n"
   ]
  },
  {
   "cell_type": "markdown",
   "metadata": {},
   "source": [
    "##### Character Ranges"
   ]
  },
  {
   "cell_type": "code",
   "execution_count": 21,
   "metadata": {},
   "outputs": [
    {
     "name": "stdout",
     "output_type": "stream",
     "text": [
      "['Le', 'Ja']\n"
     ]
    }
   ],
   "source": [
    "char_pat = re.compile('[A-Z][a-f]')\n",
    "names =  'LeBron James Jr.'\n",
    "\n",
    "print(char_pat.findall(names))"
   ]
  },
  {
   "cell_type": "markdown",
   "metadata": {},
   "source": [
    "### Counting Occurences"
   ]
  },
  {
   "cell_type": "markdown",
   "metadata": {},
   "source": [
    "##### {x} - something that occurs {num_of_times}"
   ]
  },
  {
   "cell_type": "code",
   "execution_count": 36,
   "metadata": {},
   "outputs": [
    {
     "name": "stdout",
     "output_type": "stream",
     "text": [
      "['Bron', 'Jame']\n"
     ]
    }
   ],
   "source": [
    "char_pat = re.compile('[A-Z][a-z]{3}')\n",
    "names =  'LeBron James Jr.'\n",
    "\n",
    "print(char_pat.findall(names))"
   ]
  },
  {
   "cell_type": "markdown",
   "metadata": {},
   "source": [
    "##### {x, x} - something that occurs between x and x times"
   ]
  },
  {
   "cell_type": "code",
   "execution_count": 59,
   "metadata": {},
   "outputs": [
    {
     "name": "stdout",
     "output_type": "stream",
     "text": [
      "['Le', 'Bron', 'Jame', 's', 'Jr']\n",
      "['Bron', 'm', 's', 'Jr']\n"
     ]
    }
   ],
   "source": [
    "# names =  'LeBron James Jr.'\n",
    "# char_pat = re.compile('[A-Z][a-z]{1,3}')\n",
    "\n",
    "# print(char_pat.findall(names))\n",
    "\n",
    "names =  'LeBron James Jr.'\n",
    "char_pat = re.compile('[A-Z]{0,2}[a-z]{1,3}')\n",
    "\n",
    "print(char_pat.findall(names))\n",
    "\n",
    "names =  'LeBron James Jr.'\n",
    "char_pat = re.compile('[A-Z]{0,2}[f-z]{1,3}')\n",
    "\n",
    "print(char_pat.findall(names))"
   ]
  },
  {
   "cell_type": "markdown",
   "metadata": {},
   "source": [
    "##### ? - something that occurs 0 or 1 time"
   ]
  },
  {
   "cell_type": "code",
   "execution_count": 69,
   "metadata": {},
   "outputs": [
    {
     "name": "stdout",
     "output_type": "stream",
     "text": [
      "['Ve', 'Bron', 'Jame', 's', 'Jr']\n",
      "['Bro', 'Jam', 'es']\n"
     ]
    }
   ],
   "source": [
    "char_pat = re.compile('[A-Z]?[a-z]{1,3}') #using ? its saying zero or one times, the capital letter doesnt have to be there\n",
    "names =  'LRVeBron James Jr.'\n",
    "\n",
    "print(char_pat.findall(names))\n",
    "\n",
    "\n",
    "char_pat = re.compile('[A-Z]?[a-z]{2}')\n",
    "\n",
    "print(char_pat.findall(names))"
   ]
  },
  {
   "cell_type": "markdown",
   "metadata": {},
   "source": [
    "##### * - something that occurs at least 0 times"
   ]
  },
  {
   "cell_type": "code",
   "execution_count": 78,
   "metadata": {},
   "outputs": [
    {
     "name": "stdout",
     "output_type": "stream",
     "text": [
      "['6t', '56444t', 't', 't']\n"
     ]
    }
   ],
   "source": [
    "pat = re.compile('[0-9]*t')\n",
    "\n",
    "string = 'Mr.Sam lives on 6th 56444th Street. His num is 626 888 8888'\n",
    "\n",
    "print(pat.findall(string))\n"
   ]
  },
  {
   "cell_type": "markdown",
   "metadata": {},
   "source": [
    "##### + - something that occurs at least once"
   ]
  },
  {
   "cell_type": "code",
   "execution_count": 80,
   "metadata": {},
   "outputs": [
    {
     "name": "stdout",
     "output_type": "stream",
     "text": [
      "['6th', '565555th']\n"
     ]
    }
   ],
   "source": [
    "pat = re.compile('[0-9]+th')\n",
    "\n",
    "string = 'Mr.Carlson lives on 6th 565555th Street. His number is 626 888 8888'\n",
    "\n",
    "print(pat.findall(string))"
   ]
  },
  {
   "cell_type": "markdown",
   "metadata": {},
   "source": [
    "# In-class exercise 1: \n",
    "\n",
    "Use a regular expression to find every number in the given string"
   ]
  },
  {
   "cell_type": "code",
   "execution_count": 13,
   "metadata": {},
   "outputs": [
    {
     "name": "stdout",
     "output_type": "stream",
     "text": [
      "['10909090', '1', '2']\n"
     ]
    }
   ],
   "source": [
    "my_string = \"This string has 10909090 numbers, but it is only 1 string. I hope you solve this 2day.\"\n",
    "\n",
    "num = re.compile('[0-9]+')\n",
    "print(num.findall(my_string))\n",
    "\n",
    "# Output: ['10909090','1',2]\n",
    "\n"
   ]
  },
  {
   "cell_type": "markdown",
   "metadata": {},
   "source": [
    "### Escaping Characters"
   ]
  },
  {
   "cell_type": "markdown",
   "metadata": {},
   "source": [
    "##### \\w - look for any Unicode character<br/>\\W - look for anything that isnt a Unicode character\n",
    "\n",
    "[History on Unicode](http://unicode.org/standard/WhatIsUnicode.html)\n",
    "\n",
    "[More on Unicode Characters](https://en.wikipedia.org/wiki/List_of_Unicode_characters)"
   ]
  },
  {
   "cell_type": "code",
   "execution_count": 87,
   "metadata": {},
   "outputs": [
    {
     "name": "stdout",
     "output_type": "stream",
     "text": [
      "['this', 'is', 'a', 'sentence', 'lets', 'see', 'what', 'matches', '1234']\n",
      "[' ', ' ', ' ', '... ', ' ', ' ', ' ', '! ']\n",
      "hi\n"
     ]
    }
   ],
   "source": [
    "p1 = re.compile('\\w+')\n",
    "p2 = re.compile('\\W+')\n",
    "\n",
    "string = 'this is a sentence... lets see what matches! 1234'\n",
    "print(p1.findall(string))\n",
    "print(p2.findall(string))\n",
    "\n",
    "'hithere'\n",
    "print('hi')"
   ]
  },
  {
   "cell_type": "markdown",
   "metadata": {},
   "source": [
    "##### \\d - look for any digit 0-9<br/>\\D - look for anything that isnt a digit"
   ]
  },
  {
   "cell_type": "code",
   "execution_count": 88,
   "metadata": {},
   "outputs": [
    {
     "name": "stdout",
     "output_type": "stream",
     "text": [
      "['1234']\n",
      "['this is a sentence... lets see what matches! ']\n"
     ]
    }
   ],
   "source": [
    "p3 = re.compile('\\d+')\n",
    "p4 = re.compile('\\D+')\n",
    "\n",
    "print(p3.findall(string))\n",
    "print(p4.findall(string))"
   ]
  },
  {
   "cell_type": "markdown",
   "metadata": {},
   "source": [
    "##### \\s - look for any white space<br/>\\S - look for anything that isnt whitespace"
   ]
  },
  {
   "cell_type": "code",
   "execution_count": 16,
   "metadata": {},
   "outputs": [
    {
     "name": "stdout",
     "output_type": "stream",
     "text": [
      "[' ', ' ', ' ', '\\n    ', ' ', ' ', ' ', ' ', '\\n']\n",
      "['This', 'is', 'a', 'paragraph.', 'lets', 'see', 'what', 'matches', ':}']\n"
     ]
    }
   ],
   "source": [
    "paragraph = '''This is a paragraph.\n",
    "    lets see what matches :}\n",
    "'''\n",
    "\n",
    "p5= re.compile('\\s+')\n",
    "p6= re.compile('\\S+')\n",
    "\n",
    "print(p5.findall(paragraph))\n",
    "print(p6.findall(paragraph))"
   ]
  },
  {
   "cell_type": "markdown",
   "metadata": {},
   "source": [
    "##### \\b - look for boundaries or edges of a word<br/>\\B - look for anything that isnt a boundary"
   ]
  },
  {
   "cell_type": "code",
   "execution_count": 94,
   "metadata": {},
   "outputs": [
    {
     "name": "stdout",
     "output_type": "stream",
     "text": [
      "['hello']\n",
      "[]\n"
     ]
    }
   ],
   "source": [
    "string = 'hellox world'\n",
    "\n",
    "# print(r'\\bhello\\b')\n",
    "p7 = re.compile(r'\\bhello\\B')\n",
    "p8= re.compile(r'\\Bhello\\B')\n",
    "\n",
    "print(p7.findall(string))\n",
    "print(p8.findall(string))\n"
   ]
  },
  {
   "cell_type": "markdown",
   "metadata": {},
   "source": [
    "### Grouping"
   ]
  },
  {
   "cell_type": "code",
   "execution_count": 106,
   "metadata": {},
   "outputs": [
    {
     "name": "stdout",
     "output_type": "stream",
     "text": [
      "['Max Smith', 'Sam Darnold', 'Bron James', 'Kevin Durant', 'Pat Mc']\n",
      "\n",
      "space\n",
      "\n",
      "('Max', 'Smith')\n",
      "not valid\n",
      "('Sam', 'Darnold')\n",
      "('LeBron', 'James')\n",
      "('Kevin', 'Durant')\n",
      "('Pat', 'McCorn')\n",
      "not valid\n"
     ]
    }
   ],
   "source": [
    "my_string_again = \"Max Smith, aaron rodgers, Sam Darnold,LeBron James, Kevin Durant, Pat McCorn, Me\"\n",
    "\n",
    "# Group of names Regular Expression Compiler\n",
    "\n",
    "#                     ('[A-Z][a-zA-Z]+ [A-Z][a-zA-Z]+')\n",
    "name_pat1 = re.compile('[A-Z][a-z]+ [A-Z][a-z]+')\n",
    "found1= name_pat1.findall(my_string_again)\n",
    "print(found1)\n",
    "\n",
    "\n",
    "print('\\nspace\\n')\n",
    "\n",
    "#                       ?P<name> \n",
    "\n",
    "name_pat = re.compile('(?P<first>[A-Z][a-zA-Z]+) (?P<last>[A-Z][a-zA-Z]+)')\n",
    "found = name_pat.findall(my_string_again)\n",
    "names = my_string_again.split(',')\n",
    "# print(names)\n",
    "\n",
    "for name in names:\n",
    "    match = name_pat.search(name)\n",
    "    \n",
    "    if match:\n",
    "        print(match.groups('last')) #=> tuple\n",
    "\n",
    "    else:\n",
    "        print('not valid')"
   ]
  },
  {
   "cell_type": "markdown",
   "metadata": {},
   "source": [
    "##### In-class Exercise 2:\n",
    "\n",
    "Write a function using regular expressions to find the domain name in the given email addresses (and return None for the invalid email addresses)<br><b>HINT: Use '|' for either or</b>"
   ]
  },
  {
   "cell_type": "code",
   "execution_count": 107,
   "metadata": {},
   "outputs": [
    {
     "ename": "TypeError",
     "evalue": "expected string or bytes-like object",
     "output_type": "error",
     "traceback": [
      "\u001b[1;31m---------------------------------------------------------------------------\u001b[0m",
      "\u001b[1;31mTypeError\u001b[0m                                 Traceback (most recent call last)",
      "Cell \u001b[1;32mIn[107], line 13\u001b[0m\n\u001b[0;32m      3\u001b[0m \u001b[38;5;66;03m# You can also use the $ at the end of your compile expression -- this stops the search\u001b[39;00m\n\u001b[0;32m      4\u001b[0m \u001b[38;5;66;03m#Expected output:\u001b[39;00m\n\u001b[0;32m      5\u001b[0m \u001b[38;5;66;03m#None\u001b[39;00m\n\u001b[1;32m   (...)\u001b[0m\n\u001b[0;32m      9\u001b[0m \u001b[38;5;66;03m#None\u001b[39;00m\n\u001b[0;32m     10\u001b[0m \u001b[38;5;66;03m# match = re.search(pattern, string)\u001b[39;00m\n\u001b[0;32m     12\u001b[0m mail_pattern \u001b[38;5;241m=\u001b[39m re\u001b[38;5;241m.\u001b[39mcompile(\u001b[38;5;124m\"\u001b[39m\u001b[38;5;124m(?P<name>[A-Za-z0-9]+)@(?P<domain>[A-Za-z0-9]+).(org|com)$\u001b[39m\u001b[38;5;124m\"\u001b[39m)\n\u001b[1;32m---> 13\u001b[0m result \u001b[38;5;241m=\u001b[39m \u001b[43mmail_pattern\u001b[49m\u001b[38;5;241;43m.\u001b[39;49m\u001b[43mmatch\u001b[49m\u001b[43m(\u001b[49m\u001b[43mmy_emails\u001b[49m\u001b[43m)\u001b[49m\n\u001b[0;32m     14\u001b[0m \u001b[38;5;28mprint\u001b[39m(\u001b[38;5;124m'\u001b[39m\u001b[38;5;124mresult\u001b[39m\u001b[38;5;124m'\u001b[39m)\n",
      "\u001b[1;31mTypeError\u001b[0m: expected string or bytes-like object"
     ]
    }
   ],
   "source": [
    "my_emails = [\"shohat@codingcodingsummit.orgcom\", \"pocohontas1776@gmail.com\", \"helloworld@aol..com\",\n",
    "             \"yourfavoriteband@g6.org\", \"@codingsummit.com\"]\n",
    "# You can also use the $ at the end of your compile expression -- this stops the search\n",
    "#Expected output:\n",
    "#None\n",
    "#pocohontas1776@gmail.com\n",
    "#None\n",
    "#yourfavoriteband@g6.org\n",
    "#None\n",
    "# match = re.search(pattern, string)\n",
    "\n",
    "mail_pattern = re.compile(\"(?P<name>[A-Za-z0-9]+)@(?P<domain>[A-Za-z0-9]+).(org|com)$\")\n",
    "result = mail_pattern.match(my_emails)\n",
    "print('result')"
   ]
  },
  {
   "cell_type": "markdown",
   "metadata": {},
   "source": [
    "### Opening a File <br>\n",
    "<p>Python gives us a couple ways to import files, below are the two used most often.</p>"
   ]
  },
  {
   "cell_type": "markdown",
   "metadata": {},
   "source": [
    "##### open()"
   ]
  },
  {
   "cell_type": "code",
   "execution_count": 6,
   "metadata": {},
   "outputs": [
    {
     "name": "stdout",
     "output_type": "stream",
     "text": [
      "Hawkins, Derek\tderek@codingtemple.com\t(555) 555-5555\tTeacher, Coding Temple\t@derekhawkins\n",
      "Zhai, Mo\tmozhai@codingtemple.com\t(555) 555-5554\tTeacher, Coding Temple\n",
      "Johnson, Joe\tjoejohnson@codingtemple.com\t\tJohson, Joe\n",
      "Osterberg, Sven-Erik\tgovernor@norrbotten.co.se\t\tGovernor, Norrbotten\t@sverik\n",
      ", Tim\ttim@killerrabbit.com\t\tEnchanter, Killer Rabbit Cave\n",
      "Butz, Ryan\tryanb@codingtemple.com\t(555) 555-5543\tCEO, Coding Temple\t@ryanbutz\n",
      "Doctor, The\tdoctor+companion@tardis.co.uk\t\tTime Lord, Gallifrey\n",
      "Exampleson, Example\tme@example.com\t555-555-5552\tExample, Example Co.\t@example\n",
      "Pael, Ripal\tripalp@codingtemple.com\t(555) 555-5553\tTeacher, Coding Temple\t@ripalp\n",
      "Vader, Darth\tdarth-vader@empire.gov\t(555) 555-4444\tSith Lord, Galactic Empire\t@darthvader\n",
      "Fernandez de la Vega Sanz, Maria Teresa\tmtfvs@spain.gov\t\tFirst Deputy Prime Minister, Spanish Gov\n",
      "\n"
     ]
    }
   ],
   "source": [
    "file = open('names.txt')\n",
    "data = file.read()\n",
    "file.close()\n",
    "\n",
    "print(data)"
   ]
  },
  {
   "cell_type": "markdown",
   "metadata": {},
   "source": [
    "##### with open()"
   ]
  },
  {
   "cell_type": "code",
   "execution_count": 7,
   "metadata": {
    "scrolled": true
   },
   "outputs": [
    {
     "name": "stdout",
     "output_type": "stream",
     "text": [
      "Hawkins, Derek\tderek@codingtemple.com\t(555) 555-5555\tTeacher, Coding Temple\t@derekhawkins\n",
      "Zhai, Mo\tmozhai@codingtemple.com\t(555) 555-5554\tTeacher, Coding Temple\n",
      "Johnson, Joe\tjoejohnson@codingtemple.com\t\tJohson, Joe\n",
      "Osterberg, Sven-Erik\tgovernor@norrbotten.co.se\t\tGovernor, Norrbotten\t@sverik\n",
      ", Tim\ttim@killerrabbit.com\t\tEnchanter, Killer Rabbit Cave\n",
      "Butz, Ryan\tryanb@codingtemple.com\t(555) 555-5543\tCEO, Coding Temple\t@ryanbutz\n",
      "Doctor, The\tdoctor+companion@tardis.co.uk\t\tTime Lord, Gallifrey\n",
      "Exampleson, Example\tme@example.com\t555-555-5552\tExample, Example Co.\t@example\n",
      "Pael, Ripal\tripalp@codingtemple.com\t(555) 555-5553\tTeacher, Coding Temple\t@ripalp\n",
      "Vader, Darth\tdarth-vader@empire.gov\t(555) 555-4444\tSith Lord, Galactic Empire\t@darthvader\n",
      "Fernandez de la Vega Sanz, Maria Teresa\tmtfvs@spain.gov\t\tFirst Deputy Prime Minister, Spanish Gov\n",
      "\n",
      "done, (file closed)\n"
     ]
    }
   ],
   "source": [
    "with open('names.txt') as file:\n",
    "    data = file.read()\n",
    "    \n",
    "    print(data)\n",
    "    print('done, (file closed)')"
   ]
  },
  {
   "cell_type": "code",
   "execution_count": null,
   "metadata": {},
   "outputs": [],
   "source": []
  },
  {
   "cell_type": "markdown",
   "metadata": {},
   "source": [
    "# For reference:\n",
    "<p> \"https://docs.python.org/3/library/re.html\" </p>"
   ]
  },
  {
   "cell_type": "code",
   "execution_count": null,
   "metadata": {},
   "outputs": [],
   "source": []
  },
  {
   "cell_type": "markdown",
   "metadata": {},
   "source": [
    "##### re.match()"
   ]
  },
  {
   "cell_type": "code",
   "execution_count": 16,
   "metadata": {},
   "outputs": [
    {
     "name": "stdout",
     "output_type": "stream",
     "text": [
      "<re.Match object; span=(0, 2), match='he'>\n",
      "<re.Match object; span=(0, 2), match='he'>\n"
     ]
    }
   ],
   "source": [
    "pat = re.compile('[a-z]{2}')\n",
    "string = 'hello there!! Happy New Years'\n",
    "res = pat.match(string)\n",
    "\n",
    "#SYNTAX re.match(pattern, string)\n",
    "res2 = re.match(r'[a-z]{2}', string)\n",
    "print(res)\n",
    "print(res2)"
   ]
  },
  {
   "cell_type": "markdown",
   "metadata": {},
   "source": [
    "##### re.search()"
   ]
  },
  {
   "cell_type": "code",
   "execution_count": 14,
   "metadata": {},
   "outputs": [
    {
     "name": "stdout",
     "output_type": "stream",
     "text": [
      "<re.Match object; span=(0, 2), match='he'>\n"
     ]
    }
   ],
   "source": [
    "res3 = re.search('[a-z]{2}', string)\n",
    "print(res3)"
   ]
  },
  {
   "cell_type": "markdown",
   "metadata": {},
   "source": [
    "##### Store the String to a Variable"
   ]
  },
  {
   "cell_type": "code",
   "execution_count": 22,
   "metadata": {},
   "outputs": [
    {
     "name": "stdout",
     "output_type": "stream",
     "text": [
      "what would you like to search for?[A-za-z]+\n",
      "I found your data:  (0, 7) Hawkins\n"
     ]
    }
   ],
   "source": [
    "#run without you\n",
    "answer = input('what would you like to search for?')\n",
    "\n",
    "found = re.search(answer, data)\n",
    "if found:\n",
    "    print('I found your data: ', found.span(), found.group())\n",
    "else:\n",
    "    print('try again')\n",
    "    \n",
    "    #[A-za-z]+\n",
    "    \n",
    "# found = re.findall(answer, data)\n",
    "# if found:\n",
    "#     print('I found your data: ', found) \n",
    "# else:\n",
    "#     print('try again')"
   ]
  },
  {
   "cell_type": "markdown",
   "metadata": {},
   "source": [
    "### In-Class Exercise #3 <br>\n",
    "<p>Print each persons name and twitter handle, using groups, should look like:</p>\n",
    "<p>==============<br>\n",
    "   Full Name / Twitter<br>\n",
    "   ==============</p>\n",
    "Shoha Tsuchida / @shoha-tsuchida\n",
    "\n",
    "Daniel Le / @le\n",
    "\n",
    " Erik Sven-Osterberg / @sverik\n",
    "\n",
    " Shinha T / @shinha\n",
    "\n",
    " Example Exampleson / @example\n",
    "\n",
    " Shokou Okano / @sho\n",
    "\n",
    " Darth Vader / @darthvader"
   ]
  },
  {
   "cell_type": "code",
   "execution_count": 46,
   "metadata": {},
   "outputs": [],
   "source": [
    "# re.search() This method stops after the first match\n",
    "#  returns None (if the pattern doesn’t match), \n",
    "#or a re.MatchObject that contains information about the matching part of the string. \n",
    "\n",
    "\n",
    "# re.findall() == Return all non-overlapping matches of pattern in string, \n",
    "\n",
    "#from the helpful website\n",
    "#Osterberg, Sven-Erik\tgovernor@norrbotten.co.se\t\tGovernor, Norrbotten\t@sverik\n",
    "#(?P<first>[A-Z][a-zA-Z]+), (?P<last>[A-Z][a-zA-Z]+)(?P<optional>[\\w\\W]+)(?P<twitter>@[a-z]+)\n",
    "\n",
    "#work line by line\n",
    "#use readlines\n",
    "#working with a list, looping through the list, using a .match ... should work\n",
    "#now you have a working match group\n",
    "#search for a specific group and print an f string based on that group\n",
    "\n",
    "#names are flipped in the file, but you have variables to access them\n",
    "if match : \n",
    "print(f\"{match.group('last_name')} {match.group('first_name')} / {match.group(1)}\")\n",
    "\n",
    "\n",
    "# for found in pattern.findall(data):\n",
    "#     print(found)\n",
    "# ==('Governor', 'Norrbotten', '', '@sverik')"
   ]
  },
  {
   "cell_type": "code",
   "execution_count": 54,
   "metadata": {},
   "outputs": [
    {
     "name": "stdout",
     "output_type": "stream",
     "text": [
      "Derek Hawkins / @spain\n"
     ]
    }
   ],
   "source": [
    "pattern = r'(?P<last>[A-Z][a-zA-Z]*), (?P<first>[A-Z][a-zA-Z]*)(?P<optional>[\\w\\W]*)(?P<twitter>@[a-z]+)'\n",
    "\n",
    "with open(\"names.txt\") as file:\n",
    "    text = file.read()\n",
    "    match = re.search(pattern, text)\n",
    "    if match:\n",
    "        print(f\"{match.group('first')} {match.group('last')} / {match.group('twitter')}\")\n",
    "    else:\n",
    "        print(\"Nope\")\n",
    "#     print(f'{match[0]} {match[1]} / {match[3]}')"
   ]
  },
  {
   "cell_type": "code",
   "execution_count": 58,
   "metadata": {
    "scrolled": true
   },
   "outputs": [
    {
     "name": "stdout",
     "output_type": "stream",
     "text": [
      "Derek Hawkins / @derekhawkins\n",
      "Mo Zhai / @codingtemple\n",
      "Joe Johnson / @codingtemple\n",
      "Sven Osterberg / @sverik\n",
      "Nope\n",
      "Ryan Butz / @ryanbutz\n",
      "The Doctor / @tardis\n",
      "Example Exampleson / @example\n",
      "Ripal Pael / @ripalp\n",
      "Darth Vader / @darthvader\n",
      "Maria Sanz / @spain\n"
     ]
    }
   ],
   "source": [
    "pattern = r'(?P<last>[A-Z][a-zA-Z]*), (?P<first>[A-Z][a-zA-Z]*)(?P<optional>[\\w\\W]*)(?P<twitter>@[a-z]+)'\n",
    "\n",
    "with open(\"names.txt\") as file:\n",
    "    for line in file:\n",
    "        match = re.search(pattern, line)\n",
    "        if match:\n",
    "            print(f\"{match.group('first')} {match.group('last')} / {match.group('twitter')}\")\n",
    "        else:\n",
    "            print(\"Nope\")"
   ]
  },
  {
   "cell_type": "code",
   "execution_count": null,
   "metadata": {},
   "outputs": [],
   "source": []
  },
  {
   "cell_type": "markdown",
   "metadata": {},
   "source": [
    "### Regex project\n",
    "\n",
    "Use python to read the file regex_test.txt and print the last name on each line using regular expressions and groups (return None for names with no first and last name, or names that aren't properly capitalized)\n",
    "##### Hint: use with open() and readlines()"
   ]
  },
  {
   "cell_type": "markdown",
   "metadata": {},
   "source": [
    "open()\n",
    "file_object = open(file_name, mode)\n",
    "\n",
    "readlines()\n",
    "    Return all lines in the file as a list of strings, \n",
    "    as a list where each line is an item in the list object\n",
    "lines = file_object.readlines()\n",
    "\n",
    "with open('example.txt', 'r') as file:\n",
    "    lines = file.readlines()\n",
    "    \n",
    "To read a file’s contents, call f.read(size)\n",
    "https://docs.python.org/3/tutorial/inputoutput.html"
   ]
  },
  {
   "cell_type": "code",
   "execution_count": null,
   "metadata": {},
   "outputs": [],
   "source": []
  },
  {
   "cell_type": "code",
   "execution_count": 124,
   "metadata": {
    "scrolled": false
   },
   "outputs": [],
   "source": [
    "# \"\"\"\n",
    "# Expected Output\n",
    "# Abraham Lincoln\n",
    "# Andrew P Garfield\n",
    "# Connor Milliken\n",
    "# Jordan Alexander Williams\n",
    "# None \n",
    "# None\n",
    "# \"\"\"\n",
    "\n",
    "# pattern = r'(?P<first>[A-Z][a-z]*) (?P<last>[A-Z][a-z]*)'\n",
    "# or wat if i try pattern = r'(?P<first>[A-Z][a-z\\S]*)'\n"
   ]
  },
  {
   "cell_type": "code",
   "execution_count": 113,
   "metadata": {},
   "outputs": [
    {
     "name": "stdout",
     "output_type": "stream",
     "text": [
      "None\n",
      "Andrew P Garfield\n",
      "None\n",
      "None\n",
      "None\n",
      "None\n"
     ]
    }
   ],
   "source": [
    "for line in lines:\n",
    "    match = re.match(r'([A-Z][a-z]+)\\s([A-Z])?\\s([A-Z][a-z]+)', line)\n",
    "    \n",
    "    #([A-Z][a-z]+)\\s([A-Z][a-z]+)\n",
    "        \n",
    "        print(f\"{first_name} {opt} {last_name}\")\n"
   ]
  },
  {
   "cell_type": "code",
   "execution_count": 125,
   "metadata": {},
   "outputs": [
    {
     "name": "stdout",
     "output_type": "stream",
     "text": [
      "Abraham Lincoln\n",
      "Andrew P Garfield\n",
      "Connor Milliken\n",
      "Jordan Alexander Williams\n",
      "Madonna None\n",
      "None\n"
     ]
    }
   ],
   "source": [
    "with open('regex_test.txt', 'r') as file:\n",
    "    lines = file.readlines()\n",
    "\n",
    "for line in lines:\n",
    "    match = re.match(r'([A-Z][a-z]+)\\s([A-Z][a-z]*)?\\s?([A-Z][a-z]+)?', line)\n",
    "    if match:\n",
    "        first_name = match.group(1)\n",
    "        middle_name = match.group(2)\n",
    "        last_name = match.group(3)\n",
    "        if last_name:\n",
    "            print(f\"{first_name} {middle_name} {last_name}\")\n",
    "        else:\n",
    "            print(f\"{first_name} {middle_name}\")\n",
    "        \n",
    "    else:\n",
    "        print(\"None\")\n",
    "\n"
   ]
  },
  {
   "cell_type": "code",
   "execution_count": null,
   "metadata": {},
   "outputs": [],
   "source": []
  }
 ],
 "metadata": {
  "kernelspec": {
   "display_name": "Python 3 (ipykernel)",
   "language": "python",
   "name": "python3"
  },
  "language_info": {
   "codemirror_mode": {
    "name": "ipython",
    "version": 3
   },
   "file_extension": ".py",
   "mimetype": "text/x-python",
   "name": "python",
   "nbconvert_exporter": "python",
   "pygments_lexer": "ipython3",
   "version": "3.9.13"
  }
 },
 "nbformat": 4,
 "nbformat_minor": 2
}
